{
 "cells": [
  {
   "cell_type": "code",
   "execution_count": null,
   "id": "9d7cf212",
   "metadata": {},
   "outputs": [],
   "source": [
    "from bs4 import BeautifulSoup\n",
    "import requests\n",
    "import time\n",
    "import datetime\n",
    "import smtplib"
   ]
  },
  {
   "cell_type": "code",
   "execution_count": 40,
   "id": "21598306",
   "metadata": {},
   "outputs": [
    {
     "name": "stdout",
     "output_type": "stream",
     "text": [
      "\n",
      "\n",
      "           Cheapest 14 Inch Educational Core i7 th Generation 8GB RAM OEM 256GB 512GB 1TB Computadoras Laptop Computer Hardware & Software\n",
      "           \n",
      "\n",
      "\n",
      "\n",
      "\n",
      "\n",
      "              $398.00\n",
      "             \n",
      "\n"
     ]
    }
   ],
   "source": [
    "# connect to website and scrap some data\n",
    "\n",
    "URL = 'https://www.alibaba.com/product-detail/Cheapest-14-Inch-Educational-Core-i7_1600773391228.html?spm=a2700.galleryofferlist.0.0.20ce121bAb2D6J'\n",
    "\n",
    "headers = {\"User-Agent\": \"Mozilla/5.0 (Windows NT 10.0; Win64; x64) AppleWebKit/537.36 (KHTML, like Gecko) Chrome/112.0.0.0 Safari/537.36\", \"Accept-Encoding\":\"gzip, deflate\", \"Accept\":\"text/html,application/xhtml+xml,application/xml;q=0.9,*/*;q=0.8\", \"DNT\":\"1\",\"Connection\":\"close\", \"Upgrade-Insecure-Requests\":\"1\"}\n",
    "\n",
    "page = requests.get(URL, headers = headers)\n",
    "\n",
    "soup1 = BeautifulSoup(page.content, \"html.parser\")\n",
    "\n",
    "soup2 = BeautifulSoup(soup1.prettify(), \"html.parser\")\n",
    "\n",
    "title = soup2.find('div', class_='product-title').get_text()\n",
    "\n",
    "price = soup2.find('div', class_='price').get_text()\n",
    "\n",
    "print(title)\n",
    "print(price)"
   ]
  },
  {
   "cell_type": "code",
   "execution_count": 41,
   "id": "ec00543a",
   "metadata": {},
   "outputs": [
    {
     "name": "stdout",
     "output_type": "stream",
     "text": [
      "Cheapest 14 Inch Educational Core i7 th Generation 8GB RAM OEM 256GB 512GB 1TB Computadoras Laptop Computer Hardware & Software\n",
      "398.00\n"
     ]
    }
   ],
   "source": [
    "# clean up white space\n",
    "price = price.strip()[1:]\n",
    "title = title.strip()\n",
    "print(title)\n",
    "print(price)"
   ]
  },
  {
   "cell_type": "code",
   "execution_count": 42,
   "id": "d1cbeef8",
   "metadata": {},
   "outputs": [],
   "source": [
    "import csv\n",
    "\n",
    "today = datetime.date.today()\n",
    "\n",
    "header = ['Title', 'Price', 'Date']\n",
    "data = [title, price, today]\n",
    "\n",
    "with open(\"ProductWebScrapperData.csv\", 'w', newline='', encoding='UTF8') as temp:\n",
    "    writer = csv.writer(temp)\n",
    "    writer.writerow(header)\n",
    "    writer.writerow(data)"
   ]
  },
  {
   "cell_type": "code",
   "execution_count": 43,
   "id": "0a28d13e",
   "metadata": {},
   "outputs": [
    {
     "name": "stdout",
     "output_type": "stream",
     "text": [
      "                                               Title  Price        Date\n",
      "0  Cheapest 14 Inch Educational Core i7 th Genera...  398.0  2023-04-21\n"
     ]
    }
   ],
   "source": [
    "import pandas as pd\n",
    "\n",
    "df = pd.read_csv(r'C:\\Users\\madah\\ATA Folder\\ProductWebScrapperData.csv')\n",
    "\n",
    "print(df)"
   ]
  },
  {
   "cell_type": "code",
   "execution_count": 37,
   "id": "5b7904a6",
   "metadata": {},
   "outputs": [],
   "source": [
    "# function\n",
    "\n",
    "def update_data():\n",
    "    URL = 'https://www.ebay.com/p/14056780796?iid=125533439255'\n",
    "    headers = {\"User-Agent\": \"Mozilla/5.0 (Windows NT 10.0; Win64; x64) AppleWebKit/537.36 (KHTML, like Gecko) Chrome/112.0.0.0 Safari/537.36\", \"Accept-Encoding\":\"gzip, deflate\", \"Accept\":\"text/html,application/xhtml+xml,application/xml;q=0.9,*/*;q=0.8\", \"DNT\":\"1\",\"Connection\":\"close\", \"Upgrade-Insecure-Requests\":\"1\"}\n",
    "    page = requests.get(URL, headers = headers)\n",
    "    soup1 = BeautifulSoup(page.content, \"html.parser\")\n",
    "    soup2 = BeautifulSoup(soup1.prettify(), \"html.parser\")\n",
    "    title = soup2.find('h1', class_='product-title').get_text()\n",
    "    price = soup2.find('div', class_='display-price').get_text()\n",
    "\n",
    "    price = price.strip()[1:]\n",
    "    title = title.strip()\n",
    "    \n",
    "    today = datetime.date.today()\n",
    "    header = ['Title', 'Price', 'Date']\n",
    "    data = [title, price, today]\n",
    "    \n",
    "    with open(\"EbayWebScrapperData.csv\", 'w', newline='', encoding='UTF8') as temp:\n",
    "        writer = csv.writer(temp)\n",
    "        writer.writerow(data)"
   ]
  },
  {
   "cell_type": "code",
   "execution_count": 44,
   "id": "c9b37e35",
   "metadata": {},
   "outputs": [],
   "source": [
    "# Can run the function (update_data) after a specific amount of time, automating\n",
    "\n",
    "#while(true):\n",
    "#    update_data()\n",
    "#    time.sleep(86400)\n"
   ]
  }
 ],
 "metadata": {
  "kernelspec": {
   "display_name": "Python 3 (ipykernel)",
   "language": "python",
   "name": "python3"
  },
  "language_info": {
   "codemirror_mode": {
    "name": "ipython",
    "version": 3
   },
   "file_extension": ".py",
   "mimetype": "text/x-python",
   "name": "python",
   "nbconvert_exporter": "python",
   "pygments_lexer": "ipython3",
   "version": "3.9.13"
  }
 },
 "nbformat": 4,
 "nbformat_minor": 5
}
